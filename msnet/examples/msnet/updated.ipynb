{
  "nbformat": 4,
  "nbformat_minor": 0,
  "metadata": {
    "colab": {
      "provenance": [],
      "gpuType": "T4"
    },
    "kernelspec": {
      "name": "python3",
      "display_name": "Python 3"
    },
    "language_info": {
      "name": "python"
    },
    "accelerator": "GPU",
    "gpuClass": "standard"
  },
  "cells": [
    {
      "cell_type": "code",
      "source": [
        "!python -V\n",
        "!pip install tensorflow==2.5.0"
      ],
      "metadata": {
        "id": "Irbg2S53pxaK",
        "colab": {
          "base_uri": "https://localhost:8080/"
        },
        "outputId": "d0ed89fd-23bc-4a7b-f27f-13d06b4457d2"
      },
      "execution_count": 1,
      "outputs": [
        {
          "output_type": "stream",
          "name": "stdout",
          "text": [
            "Python 3.9.16\n",
            "Looking in indexes: https://pypi.org/simple, https://us-python.pkg.dev/colab-wheels/public/simple/\n",
            "Requirement already satisfied: tensorflow==2.5.0 in /usr/local/lib/python3.9/dist-packages (2.5.0)\n",
            "Requirement already satisfied: numpy~=1.19.2 in /usr/local/lib/python3.9/dist-packages (from tensorflow==2.5.0) (1.19.5)\n",
            "Requirement already satisfied: absl-py~=0.10 in /usr/local/lib/python3.9/dist-packages (from tensorflow==2.5.0) (0.15.0)\n",
            "Requirement already satisfied: astunparse~=1.6.3 in /usr/local/lib/python3.9/dist-packages (from tensorflow==2.5.0) (1.6.3)\n",
            "Requirement already satisfied: flatbuffers~=1.12.0 in /usr/local/lib/python3.9/dist-packages (from tensorflow==2.5.0) (1.12)\n",
            "Requirement already satisfied: google-pasta~=0.2 in /usr/local/lib/python3.9/dist-packages (from tensorflow==2.5.0) (0.2.0)\n",
            "Requirement already satisfied: h5py~=3.1.0 in /usr/local/lib/python3.9/dist-packages (from tensorflow==2.5.0) (3.1.0)\n",
            "Requirement already satisfied: keras-preprocessing~=1.1.2 in /usr/local/lib/python3.9/dist-packages (from tensorflow==2.5.0) (1.1.2)\n",
            "Requirement already satisfied: opt-einsum~=3.3.0 in /usr/local/lib/python3.9/dist-packages (from tensorflow==2.5.0) (3.3.0)\n",
            "Requirement already satisfied: protobuf>=3.9.2 in /usr/local/lib/python3.9/dist-packages (from tensorflow==2.5.0) (3.20.3)\n",
            "Requirement already satisfied: six~=1.15.0 in /usr/local/lib/python3.9/dist-packages (from tensorflow==2.5.0) (1.15.0)\n",
            "Requirement already satisfied: termcolor~=1.1.0 in /usr/local/lib/python3.9/dist-packages (from tensorflow==2.5.0) (1.1.0)\n",
            "Requirement already satisfied: typing-extensions~=3.7.4 in /usr/local/lib/python3.9/dist-packages (from tensorflow==2.5.0) (3.7.4.3)\n",
            "Requirement already satisfied: wheel~=0.35 in /usr/local/lib/python3.9/dist-packages (from tensorflow==2.5.0) (0.40.0)\n",
            "Requirement already satisfied: wrapt~=1.12.1 in /usr/local/lib/python3.9/dist-packages (from tensorflow==2.5.0) (1.12.1)\n",
            "Requirement already satisfied: gast==0.4.0 in /usr/local/lib/python3.9/dist-packages (from tensorflow==2.5.0) (0.4.0)\n",
            "Requirement already satisfied: tensorboard~=2.5 in /usr/local/lib/python3.9/dist-packages (from tensorflow==2.5.0) (2.11.2)\n",
            "Requirement already satisfied: tensorflow-estimator<2.6.0,>=2.5.0rc0 in /usr/local/lib/python3.9/dist-packages (from tensorflow==2.5.0) (2.5.0)\n",
            "Requirement already satisfied: keras-nightly~=2.5.0.dev in /usr/local/lib/python3.9/dist-packages (from tensorflow==2.5.0) (2.5.0.dev2021032900)\n",
            "Requirement already satisfied: grpcio~=1.34.0 in /usr/local/lib/python3.9/dist-packages (from tensorflow==2.5.0) (1.34.1)\n",
            "Requirement already satisfied: google-auth<3,>=1.6.3 in /usr/local/lib/python3.9/dist-packages (from tensorboard~=2.5->tensorflow==2.5.0) (2.17.3)\n",
            "Requirement already satisfied: google-auth-oauthlib<0.5,>=0.4.1 in /usr/local/lib/python3.9/dist-packages (from tensorboard~=2.5->tensorflow==2.5.0) (0.4.6)\n",
            "Requirement already satisfied: markdown>=2.6.8 in /usr/local/lib/python3.9/dist-packages (from tensorboard~=2.5->tensorflow==2.5.0) (3.4.3)\n",
            "Requirement already satisfied: requests<3,>=2.21.0 in /usr/local/lib/python3.9/dist-packages (from tensorboard~=2.5->tensorflow==2.5.0) (2.27.1)\n",
            "Requirement already satisfied: setuptools>=41.0.0 in /usr/local/lib/python3.9/dist-packages (from tensorboard~=2.5->tensorflow==2.5.0) (67.6.1)\n",
            "Requirement already satisfied: tensorboard-data-server<0.7.0,>=0.6.0 in /usr/local/lib/python3.9/dist-packages (from tensorboard~=2.5->tensorflow==2.5.0) (0.6.1)\n",
            "Requirement already satisfied: tensorboard-plugin-wit>=1.6.0 in /usr/local/lib/python3.9/dist-packages (from tensorboard~=2.5->tensorflow==2.5.0) (1.8.1)\n",
            "Requirement already satisfied: werkzeug>=1.0.1 in /usr/local/lib/python3.9/dist-packages (from tensorboard~=2.5->tensorflow==2.5.0) (2.2.3)\n",
            "Requirement already satisfied: cachetools<6.0,>=2.0.0 in /usr/local/lib/python3.9/dist-packages (from google-auth<3,>=1.6.3->tensorboard~=2.5->tensorflow==2.5.0) (5.3.0)\n",
            "Requirement already satisfied: pyasn1-modules>=0.2.1 in /usr/local/lib/python3.9/dist-packages (from google-auth<3,>=1.6.3->tensorboard~=2.5->tensorflow==2.5.0) (0.2.8)\n",
            "Requirement already satisfied: rsa<5,>=3.1.4 in /usr/local/lib/python3.9/dist-packages (from google-auth<3,>=1.6.3->tensorboard~=2.5->tensorflow==2.5.0) (4.9)\n",
            "Requirement already satisfied: requests-oauthlib>=0.7.0 in /usr/local/lib/python3.9/dist-packages (from google-auth-oauthlib<0.5,>=0.4.1->tensorboard~=2.5->tensorflow==2.5.0) (1.3.1)\n",
            "Requirement already satisfied: importlib-metadata>=4.4 in /usr/local/lib/python3.9/dist-packages (from markdown>=2.6.8->tensorboard~=2.5->tensorflow==2.5.0) (6.4.1)\n",
            "Requirement already satisfied: urllib3<1.27,>=1.21.1 in /usr/local/lib/python3.9/dist-packages (from requests<3,>=2.21.0->tensorboard~=2.5->tensorflow==2.5.0) (1.26.15)\n",
            "Requirement already satisfied: certifi>=2017.4.17 in /usr/local/lib/python3.9/dist-packages (from requests<3,>=2.21.0->tensorboard~=2.5->tensorflow==2.5.0) (2022.12.7)\n",
            "Requirement already satisfied: charset-normalizer~=2.0.0 in /usr/local/lib/python3.9/dist-packages (from requests<3,>=2.21.0->tensorboard~=2.5->tensorflow==2.5.0) (2.0.12)\n",
            "Requirement already satisfied: idna<4,>=2.5 in /usr/local/lib/python3.9/dist-packages (from requests<3,>=2.21.0->tensorboard~=2.5->tensorflow==2.5.0) (3.4)\n",
            "Requirement already satisfied: MarkupSafe>=2.1.1 in /usr/local/lib/python3.9/dist-packages (from werkzeug>=1.0.1->tensorboard~=2.5->tensorflow==2.5.0) (2.1.2)\n",
            "Requirement already satisfied: zipp>=0.5 in /usr/local/lib/python3.9/dist-packages (from importlib-metadata>=4.4->markdown>=2.6.8->tensorboard~=2.5->tensorflow==2.5.0) (3.15.0)\n",
            "Requirement already satisfied: pyasn1<0.5.0,>=0.4.6 in /usr/local/lib/python3.9/dist-packages (from pyasn1-modules>=0.2.1->google-auth<3,>=1.6.3->tensorboard~=2.5->tensorflow==2.5.0) (0.4.8)\n",
            "Requirement already satisfied: oauthlib>=3.0.0 in /usr/local/lib/python3.9/dist-packages (from requests-oauthlib>=0.7.0->google-auth-oauthlib<0.5,>=0.4.1->tensorboard~=2.5->tensorflow==2.5.0) (3.2.2)\n",
            "\u001b[33mWARNING: Running pip as the 'root' user can result in broken permissions and conflicting behaviour with the system package manager. It is recommended to use a virtual environment instead: https://pip.pypa.io/warnings/venv\u001b[0m\u001b[33m\n",
            "\u001b[0m"
          ]
        }
      ]
    },
    {
      "cell_type": "code",
      "execution_count": 2,
      "metadata": {
        "id": "ni43IMH1luCN",
        "colab": {
          "base_uri": "https://localhost:8080/"
        },
        "outputId": "0f34e326-5f33-40dd-ba1d-dd86685210ce"
      },
      "outputs": [
        {
          "output_type": "stream",
          "name": "stdout",
          "text": [
            "Mounted at /content/gdrive\n"
          ]
        }
      ],
      "source": [
        "from google.colab import drive\n",
        "drive.mount('/content/gdrive', force_remount=True) "
      ]
    },
    {
      "cell_type": "code",
      "source": [
        "!git clone https://github.com/elw1s/MSNET.git\n",
        "!cp -r \"/content/MSNET/msnet/examples/msnet\" .\n",
        "!cp -r \"/content/MSNET/demo\" \"msnet\"\n",
        "!mkdir \"msnet/data_dir\"\n",
        "!mkdir \"msnet/checkpoint_dir\""
      ],
      "metadata": {
        "id": "4UbysK1blw33",
        "colab": {
          "base_uri": "https://localhost:8080/"
        },
        "outputId": "1d02c228-3731-4c28-c984-62622a37110c"
      },
      "execution_count": 3,
      "outputs": [
        {
          "output_type": "stream",
          "name": "stdout",
          "text": [
            "fatal: destination path 'MSNET' already exists and is not an empty directory.\n",
            "mkdir: cannot create directory ‘msnet/data_dir’: File exists\n",
            "mkdir: cannot create directory ‘msnet/checkpoint_dir’: File exists\n"
          ]
        }
      ]
    },
    {
      "cell_type": "code",
      "source": [
        "import requests\n",
        "from tqdm import tqdm\n",
        "\n",
        "def download_file_from_google_drive(id, destination):\n",
        "    URL = \"https://docs.google.com/uc?export=download\"\n",
        "\n",
        "    session = requests.Session()\n",
        "\n",
        "    response = session.get(URL, params = { 'id' : id , 'confirm': 1 }, stream = True)\n",
        "    token = get_confirm_token(response)\n",
        "\n",
        "    if token:\n",
        "        params = { 'id' : id, 'confirm' : token }\n",
        "        response = session.get(URL, params = params, stream = True)\n",
        "\n",
        "    save_response_content(response, destination)    \n",
        "\n",
        "def get_confirm_token(response):\n",
        "    for key, value in response.cookies.items():\n",
        "        if key.startswith('download_warning'):\n",
        "            return value\n",
        "\n",
        "    return None\n",
        "\n",
        "def save_response_content(response, destination):\n",
        "    CHUNK_SIZE = 32768\n",
        "\n",
        "    with open(destination, \"wb\") as f:\n",
        "        for chunk in tqdm(response.iter_content(CHUNK_SIZE)):\n",
        "            if chunk: # filter out keep-alive new chunks\n",
        "                f.write(chunk)"
      ],
      "metadata": {
        "id": "9PwyRpxpm0wD"
      },
      "execution_count": 4,
      "outputs": []
    },
    {
      "cell_type": "code",
      "source": [
        "# Get dataset\n",
        "DATASET_GDRIVE_ID = \"1kEKJ8kr1aScXz_1El7Mn-Yi0ANducQIW\"\n",
        "DATASET_PATH = \"msnet/data_dir/data.zip\"\n",
        "\n",
        "# Get model files\n",
        "MODEL_INDEX_GDRIVE_ID = \"1G2JkD1BgYxWN40NsIvCOZiet4AEPbRBf\"\n",
        "MODEL_INDEX_PATH = \"msnet/checkpoint_dir/model-7400.index\"\n",
        "\n",
        "MODEL_WEIGHTS_GDRIVE_ID = \"1MK8CNs_ZXhFhX6NYDSek4Y9NGHwMaOOb\"\n",
        "MODEL_WEIGHTS_PATH = \"msnet/checkpoint_dir/model-7400.data-00000-of-00001\""
      ],
      "metadata": {
        "id": "vDnry44pm6IC"
      },
      "execution_count": 5,
      "outputs": []
    },
    {
      "cell_type": "code",
      "source": [
        "download_file_from_google_drive(MODEL_INDEX_GDRIVE_ID, MODEL_INDEX_PATH)\n",
        "download_file_from_google_drive(MODEL_WEIGHTS_GDRIVE_ID, MODEL_WEIGHTS_PATH)\n",
        "download_file_from_google_drive(DATASET_GDRIVE_ID, DATASET_PATH)"
      ],
      "metadata": {
        "id": "GsFjp7qkm-Zm",
        "colab": {
          "base_uri": "https://localhost:8080/"
        },
        "outputId": "92b56728-8768-4a3b-a02e-2460950e6193"
      },
      "execution_count": 6,
      "outputs": [
        {
          "output_type": "stream",
          "name": "stderr",
          "text": [
            "2it [00:00, 2208.11it/s]\n",
            "16278it [00:02, 5629.97it/s]\n",
            "13665it [00:03, 3997.34it/s]\n"
          ]
        }
      ]
    },
    {
      "cell_type": "code",
      "source": [
        "!sudo apt install python3.9\n"
      ],
      "metadata": {
        "id": "oYEfqnteqdgl",
        "colab": {
          "base_uri": "https://localhost:8080/"
        },
        "outputId": "563a6755-b495-4cc1-bd3a-547f2aab0d05"
      },
      "execution_count": null,
      "outputs": [
        {
          "output_type": "stream",
          "name": "stdout",
          "text": []
        }
      ]
    },
    {
      "cell_type": "code",
      "source": [
        "!unzip \"msnet/data_dir/data.zip\" -d \"msnet/data_dir\""
      ],
      "metadata": {
        "id": "5AQXnfD3nAJe"
      },
      "execution_count": null,
      "outputs": []
    },
    {
      "cell_type": "markdown",
      "source": [
        "##Dependencies"
      ],
      "metadata": {
        "id": "j4pFHCYRr8tC"
      }
    },
    {
      "cell_type": "code",
      "source": [
        "!pip install --upgrade pip\n"
      ],
      "metadata": {
        "id": "9gp_YyBjnLo6"
      },
      "execution_count": null,
      "outputs": []
    },
    {
      "cell_type": "code",
      "source": [
        "#Cuda\n",
        "!apt-get --purge remove cuda nvidia* libnvidia-*\n",
        "!dpkg -l | grep cuda- | awk '{print $2}' | xargs -n1 dpkg --purge\n",
        "!apt-get remove cuda-*\n",
        "!apt autoremove\n",
        "!apt-get update\n",
        "\n",
        "#!wget https://developer.download.nvidia.com/compute/cuda/repos/ubuntu2004/x86_64/cuda-ubuntu2004.pin\n",
        "#!sudo mv cuda-ubuntu2004.pin /etc/apt/preferences.d/cuda-repository-pin-600\n",
        "#!sudo apt-key adv --fetch-keys https://developer.download.nvidia.com/compute/cuda/repos/ubuntu2004/x86_64/7fa2af80.pub\n",
        "#!sudo add-apt-repository \"deb https://developer.download.nvidia.com/compute/cuda/repos/ubuntu2004/x86_64/ /\"\n",
        "#!sudo apt-get update\n",
        "#!sudo apt-get -y install cuda\n",
        "\n",
        "!lspci | grep -i nvidia\n",
        "### gcc compiler is required for development using the cuda toolkit. to verify the version of gcc install enter\n",
        "!gcc --version\n",
        "# system update\n",
        "!sudo apt-get update\n",
        "!sudo apt-get upgrade\n",
        "# install other import packages\n",
        "!sudo apt-get install g++ freeglut3-dev build-essential libx11-dev libxmu-dev libxi-dev libglu1-mesa libglu1-mesa-dev\n",
        "# first get the PPA repository driver\n",
        "!sudo add-apt-repository ppa:graphics-drivers/ppa\n",
        "!sudo apt update\n",
        "# install nvidia driver with dependencies\n",
        "!sudo apt install libnvidia-common-470\n",
        "!sudo apt install libnvidia-gl-470\n",
        "!sudo apt install nvidia-driver-470\n",
        "\n",
        "!sudo apt-key adv --fetch-keys http://developer.download.nvidia.com/compute/cuda/repos/ubuntu2004/x86_64/7fa2af80.pub\n",
        "!echo \"deb https://developer.download.nvidia.com/compute/cuda/repos/ubuntu2004/x86_64 /\" | sudo tee /etc/apt/sources.list.d/cuda.list\n",
        "!sudo apt-get update\n",
        "\n",
        " # installing CUDA-11.2\n",
        "!sudo apt install cuda-11-2 \n",
        "\n",
        "\n",
        "!wget http://developer.download.nvidia.com/compute/machine-learning/repos/ubuntu2004/x86_64/libnccl2_2.8.3-1+cuda11.2_amd64.deb\n",
        "!wget http://developer.download.nvidia.com/compute/machine-learning/repos/ubuntu2004/x86_64/libnccl-dev_2.8.3-1+cuda11.2_amd64.deb\n",
        "!sudo dpkg -i libnccl2_2.8.3-1+cuda11.2_amd64.deb\n",
        "!sudo dpkg -i libnccl-dev_2.8.3-1+cuda11.2_amd64.deb\n",
        "!sudo apt update\n",
        "!sudo apt -y install libnccl2_2.8.3-1+cuda11.2 libnccl-dev_2.8.3-1+cuda11.2\n",
        "\n",
        "!wget https://developer.nvidia.com/compute/machine-learning/cudnn/secure/8.1.1.33/11.2_20210301/Ubuntu20_04-x64/libcudnn8_8.1.1.33-1+cuda11.2_amd64.deb\n",
        "!wget https://developer.nvidia.com/compute/machine-learning/cudnn/secure/8.1.1.33/11.2_20210301/Ubuntu20_04-x64/libcudnn8-dev_8.1.1.33-1+cuda11.2_amd64.deb\n",
        "!sudo dpkg -i libcudnn8_8.1.1.33-1+cuda11.2_amd64.deb\n",
        "!sudo dpkg -i libcudnn8-dev_8.1.1.33-1+cuda11.2_amd64.deb\n",
        "!sudo apt update\n",
        "!sudo apt -y install libcudnn8_8.1.1.33-1+cuda11.2 libcudnn8-dev_8.1.1.33-1+cuda11.2\n",
        "\n",
        "\n"
      ],
      "metadata": {
        "id": "xO5WJWdKr7eZ"
      },
      "execution_count": null,
      "outputs": []
    },
    {
      "cell_type": "code",
      "source": [
        "!nvidia-smi\n"
      ],
      "metadata": {
        "id": "0C72csvj7FSc"
      },
      "execution_count": null,
      "outputs": []
    },
    {
      "cell_type": "code",
      "source": [
        "!nvcc -V\n"
      ],
      "metadata": {
        "id": "SzMrSjZu7GH4"
      },
      "execution_count": null,
      "outputs": []
    },
    {
      "cell_type": "code",
      "source": [
        "import pycocotools.mask as cocomask\n",
        "import sys\n",
        "\n",
        "org_paths = sys.path\n",
        "\n",
        "sys.path[2] = '/usr/lib/python39.zip'\n",
        "sys.path[3] = '/usr/lib/python3.9'\n",
        "sys.path[4] = '/usr/lib/python3.9/lib-dynload'\n",
        "sys.path[6] = '/usr/local/lib/python3.9/dist-packages'\n",
        "sys.path[8] = '/usr/local/lib/python3.9/dist-packages/IPython/extensions'"
      ],
      "metadata": {
        "id": "uclLM1u_nMKO"
      },
      "execution_count": null,
      "outputs": []
    },
    {
      "cell_type": "code",
      "source": [
        "!ls -al\n",
        "!tf_upgrade_v2 --infile eval.py --outfile eval.py\n",
        "!tf_upgrade_v2 --infile common.py --outfile common.py\n",
        "!tf_upgrade_v2 --infile config.py --outfile config.py\n",
        "!tf_upgrade_v2 --infile data.py --outfile data.py\n",
        "!tf_upgrade_v2 --infile predict.py --outfile predict.py\n",
        "!tf_upgrade_v2 --infile train.py --outfile train.py\n",
        "!tf_upgrade_v2 --infile viz.py --outfile viz.py\n",
        "\n",
        "!tf_upgrade_v2 --infile /content/msnet/dataset/balloon.py --outfile /content/msnet/dataset/balloon.py\n",
        "!tf_upgrade_v2 --infile /content/msnet/dataset/coco.py --outfile /content/msnet/dataset/coco.py\n",
        "!tf_upgrade_v2 --infile /content/msnet/dataset/dataset.py --outfile /content/msnet/dataset/dataset.py\n",
        "\n",
        "!tf_upgrade_v2 --infile /content/msnet/modeling/backbone.py --outfile /content/msnet/modeling/backbone.py\n",
        "!tf_upgrade_v2 --infile /content/msnet/modeling/generalized_rcnn.py --outfile /content/msnet/modeling/generalized_rcnn.py\n",
        "!tf_upgrade_v2 --infile /content/msnet/modeling/generalized_rcnn_hierachy_inner_03.py --outfile /content/msnet/modeling/generalized_rcnn_hierachy_inner_03.py\n",
        "!tf_upgrade_v2 --infile /content/msnet/modeling/model_box.py --outfile /content/msnet/modeling/model_box.py\n",
        "!tf_upgrade_v2 --infile /content/msnet/modeling/model_cascade.py --outfile /content/msnet/modeling/model_cascade.py\n",
        "!tf_upgrade_v2 --infile /content/msnet/modeling/model_fpn.py --outfile /content/msnet/modeling/model_fpn.py\n",
        "!tf_upgrade_v2 --infile /content/msnet/modeling/model_frcnn.py --outfile /content/msnet/modeling/model_frcnn.py\n",
        "!tf_upgrade_v2 --infile /content/msnet/modeling/model_mrcnn.py --outfile /content/msnet/modeling/model_mrcnn.py\n",
        "!tf_upgrade_v2 --infile /content/msnet/modeling/model_rpn.py --outfile /content/msnet/modeling/model_rpn.py\n",
        "\n",
        "!tf_upgrade_v2 --infile /content/msnet/srn/box_align.py --outfile /content/msnet/srn/box_align.py\n",
        "!tf_upgrade_v2 --infile /content/msnet/srn/data_utils.py --outfile /content/msnet/srn/data_utils.py\n",
        "!tf_upgrade_v2 --infile /content/msnet/srn/model_utils.py --outfile /content/msnet/srn/model_utils.py\n",
        "!tf_upgrade_v2 --infile /content/msnet/srn/nn_inference.py --outfile /content/msnet/srn/nn_inference.py\n",
        "!tf_upgrade_v2 --infile /content/msnet/srn/nn_main.py --outfile /content/msnet/srn/nn_main.py\n",
        "!tf_upgrade_v2 --infile /content/msnet/srn/nn_model.py --outfile /content/msnet/srn/nn_model.py\n",
        "!tf_upgrade_v2 --infile /content/msnet/srn/save_roi_rsts.py --outfile /content/msnet/srn/save_roi_rsts.py\n",
        "!tf_upgrade_v2 --infile /content/msnet/srn/utils.py --outfile /content/msnet/srn/utils.py\n",
        "\n",
        "\n",
        "!tf_upgrade_v2 --infile /content/msnet/utils/box_ops.py --outfile /content/msnet/utils/box_ops.py\n",
        "!tf_upgrade_v2 --infile /content/msnet/utils/np_box_ops.py --outfile /content/msnet/utils/np_box_ops.py\n",
        "\n",
        "!tf_upgrade_v2 --infile /content/msnet/convert_d2/convert_d2.py --outfile /content/msnet/convert_d2/convert_d2.py\n",
        "\n"
      ],
      "metadata": {
        "id": "Xu9UoIXonVPx"
      },
      "execution_count": null,
      "outputs": []
    },
    {
      "cell_type": "code",
      "source": [
        "!pip install tensorpack"
      ],
      "metadata": {
        "id": "zKyJENtkeuwW"
      },
      "execution_count": null,
      "outputs": []
    },
    {
      "cell_type": "code",
      "source": [
        "%tensorflow_version 2.x\n",
        "\n",
        "import tensorflow as tf\n",
        "physical_devices = tf.config.list_physical_devices('GPU')\n",
        "\n",
        "print(tf.__version__)\n",
        "print(\"GPU:\", tf.config.list_physical_devices('GPU'))\n",
        "print(\"Num GPUs:\", len(physical_devices))\n",
        "tf.test.gpu_device_name()"
      ],
      "metadata": {
        "id": "D6V5LWzrnXNK"
      },
      "execution_count": null,
      "outputs": []
    },
    {
      "cell_type": "code",
      "source": [
        "!python3.9 /content/msnet/train.py --config DATA.BASEDIR=/content/msnet/data_dir MODE_FPN=True \\\n",
        "  TRAIN.BASE_LR=1e-3 TRAIN.EVAL_PERIOD=1 TRAIN.LR_SCHEDULE=[3000]  \\\n",
        "  PREPROC.TRAIN_SHORT_EDGE_SIZE=[600,1200] TRAIN.CHECKPOINT_PERIOD=1 DATA.NUM_WORKERS=1 \\\n",
        "  --logdir /content/msnet/log_dir\n"
      ],
      "metadata": {
        "id": "naUH8Cm-egtA"
      },
      "execution_count": null,
      "outputs": []
    }
  ]
}